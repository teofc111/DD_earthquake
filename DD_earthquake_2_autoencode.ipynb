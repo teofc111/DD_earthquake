{
 "cells": [
  {
   "cell_type": "markdown",
   "metadata": {},
   "source": [
    "# Driven Data - Richter's Predictor: Modeling Earthquake Damage"
   ]
  },
  {
   "cell_type": "markdown",
   "metadata": {},
   "source": [
    "In this notebook, I explore a dataset from the [DrivenData competition](https://www.drivendata.org/competitions/57/nepal-earthquake/page/134/) focused on predicting the damage levels sustained by buildings during the 2015 Gorkha earthquake in Nepal. This catastrophic event resulted in widespread destruction, and the extensively collected data offers a comprehensive look at the impact. The dataset, one of the largest post-disaster collections ever assembled, includes critical information on the buildings' structure, household conditions, and socio-economic-demographic statistics. The objective is to predict the damage_grade—an ordinal variable indicating the severity of the damage, categorized into three grades: low damage (1), medium damage (2), and complete destruction (3). The dataset comprises 39 columns, with building_id serving as a unique identifier and the remaining 38 features detailing various aspects of the buildings.\n",
    "\n",
    "_This submission placed in the 32nd position on the leaderboard (DSIF13), ranking within the top 1.5% of [submissions](https://www.drivendata.org/competitions/57/nepal-earthquake/leaderboard/)._"
   ]
  },
  {
   "cell_type": "code",
   "execution_count": 1,
   "metadata": {
    "id": "BOu-dHcFrFTe"
   },
   "outputs": [
    {
     "name": "stderr",
     "output_type": "stream",
     "text": [
      "/home/tfc/anaconda3/envs/DD_earthquake/lib/python3.11/site-packages/tqdm/auto.py:21: TqdmWarning: IProgress not found. Please update jupyter and ipywidgets. See https://ipywidgets.readthedocs.io/en/stable/user_install.html\n",
      "  from .autonotebook import tqdm as notebook_tqdm\n"
     ]
    }
   ],
   "source": [
    "# Imports\n",
    "import os\n",
    "import re\n",
    "import time\n",
    "from joblib import parallel_backend\n",
    "import cupy as cp\n",
    "import pickle\n",
    "from typing import Optional\n",
    "\n",
    "import numpy as np\n",
    "import pandas as pd\n",
    "import matplotlib.pyplot as plt\n",
    "import seaborn as sns\n",
    "\n",
    "from sklearn.model_selection import train_test_split, GridSearchCV\n",
    "from sklearn.metrics import mean_squared_error, r2_score, f1_score, roc_auc_score, accuracy_score, silhouette_score, pairwise_distances\n",
    "from sklearn.inspection import permutation_importance\n",
    "from sklearn.preprocessing import StandardScaler, MinMaxScaler, LabelEncoder\n",
    "from sklearn.manifold import MDS\n",
    "from sklearn.cluster import KMeans\n",
    "from sklearn.utils.class_weight import compute_class_weight\n",
    "from sklearn.decomposition import PCA\n",
    "from sklearn.base import BaseEstimator, ClassifierMixin\n",
    "\n",
    "from scipy.spatial.distance import pdist, squareform\n",
    "from scipy.sparse import csr_matrix, coo_matrix\n",
    "from scipy import stats\n",
    "\n",
    "import torch\n",
    "import torch.nn as nn\n",
    "import torch.optim as optim\n",
    "from tqdm import tqdm\n",
    "from torch.utils.data import DataLoader, TensorDataset\n",
    "\n",
    "import xgboost as xgb\n",
    "import catboost as cb # Requires numpy < 2.0.0\n",
    "import lightgbm as lgb\n",
    "\n",
    "import numba\n",
    "\n",
    "import warnings\n",
    "warnings.filterwarnings(\"ignore\")"
   ]
  },
  {
   "cell_type": "markdown",
   "metadata": {},
   "source": [
    "## Table of Contents\n",
    "\n",
    "1. [Approach](#Approach)\n",
    "2. [Data](#Data)\n",
    "3. [Helpers](#Helpers)\n",
    "4. [AutoEncoding Geographical Features](#AutoEncoding-Geographical-Features)\n",
    "5. [CatBoost Classifier](#CatBoost-Classifier)\n",
    "    i. [Vanilla CatBoost - no geo-encoding](#Vanilla-CatBoost---no-geo-encoding)\n",
    "   ii. [Catboost with geo-encoding](#Catboost-with-geo-encoding)\n",
    "7. [XGBoost](#XGBoost)\n",
    "8. [LightGBM](#LightGBM)\n",
    "9. [Ensemble](#Ensemble)\n",
    "10. [Submission](#Submission-File)\n",
    "11. [Conclusion and Future Work](#Conclusion-and-Future-Work)"
   ]
  },
  {
   "cell_type": "markdown",
   "metadata": {},
   "source": [
    "## Approach\n",
    "\n",
    "__Ensembling GBMs:__\n",
    "\n",
    "In this project, Gradient Boosting Machines (GBMs) are employed to predict building damage, utilizing classifier variants of these GBMs. Specifically, XGBoost, CatBoost, and LightGBM are trained on the dataset. Small perturbations are introduced during model construction to generate multiple versions of these models. An ensemble approach is then applied, where the mode of the predicted damage grades is used as the final prediction.\n",
    "\n",
    "__Auto-encoder to extract latent geographical relationships:__\n",
    "\n",
    "The dataset includes geographical features encoded hierarchically as integers. The top geographical feature has 30 possible values, while the middle and bottom features have 1,427 and 12,567 possible values, respectively. Aside from the hierarchy, there is no indication of proximity or relationships between the different geographical encodings within each layer. For an earthquake-related problem, buildings in close proximity are likely to experience similar levels of damage. In this project, an autoencoder is used to construct a representation of these geographical proximities, training on other features (e.g. building characteristics) in the dataset as well as the target variables. Hyperparameter tuning is performed carefully to avoid inadvertently using labels from the validation/test set during training. The resulting latent variables are extracted for model training."
   ]
  },
  {
   "cell_type": "markdown",
   "metadata": {
    "id": "F50O2DI7rFTj"
   },
   "source": [
    "## Data"
   ]
  },
  {
   "cell_type": "markdown",
   "metadata": {},
   "source": [
    "As shown below, the dataset consists of:\n",
    "1. Hierarchical geographical features represented by `geo_level_1_id`,`geo_level_2_id`,`geo_level_3_id`;\n",
    "2. A few numerical features, namely `count_floors_pre_eq`, `age`, `area_percentage`, `height_percentage`, `count_families`;\n",
    "3. A multitude of categorical features; and\n",
    "4. The target `damage_grade`, an ordinal variable with a value of either 1, 2 or 3."
   ]
  },
  {
   "cell_type": "code",
   "execution_count": 2,
   "metadata": {},
   "outputs": [
    {
     "data": {
      "text/html": [
       "<div>\n",
       "<style scoped>\n",
       "    .dataframe tbody tr th:only-of-type {\n",
       "        vertical-align: middle;\n",
       "    }\n",
       "\n",
       "    .dataframe tbody tr th {\n",
       "        vertical-align: top;\n",
       "    }\n",
       "\n",
       "    .dataframe thead th {\n",
       "        text-align: right;\n",
       "    }\n",
       "</style>\n",
       "<table border=\"1\" class=\"dataframe\">\n",
       "  <thead>\n",
       "    <tr style=\"text-align: right;\">\n",
       "      <th></th>\n",
       "      <th>geo_level_1_id</th>\n",
       "      <th>geo_level_2_id</th>\n",
       "      <th>geo_level_3_id</th>\n",
       "      <th>count_floors_pre_eq</th>\n",
       "      <th>age</th>\n",
       "      <th>area_percentage</th>\n",
       "      <th>height_percentage</th>\n",
       "      <th>land_surface_condition</th>\n",
       "      <th>foundation_type</th>\n",
       "      <th>roof_type</th>\n",
       "      <th>...</th>\n",
       "      <th>has_secondary_use_agriculture</th>\n",
       "      <th>has_secondary_use_hotel</th>\n",
       "      <th>has_secondary_use_rental</th>\n",
       "      <th>has_secondary_use_institution</th>\n",
       "      <th>has_secondary_use_school</th>\n",
       "      <th>has_secondary_use_industry</th>\n",
       "      <th>has_secondary_use_health_post</th>\n",
       "      <th>has_secondary_use_gov_office</th>\n",
       "      <th>has_secondary_use_use_police</th>\n",
       "      <th>has_secondary_use_other</th>\n",
       "    </tr>\n",
       "    <tr>\n",
       "      <th>building_id</th>\n",
       "      <th></th>\n",
       "      <th></th>\n",
       "      <th></th>\n",
       "      <th></th>\n",
       "      <th></th>\n",
       "      <th></th>\n",
       "      <th></th>\n",
       "      <th></th>\n",
       "      <th></th>\n",
       "      <th></th>\n",
       "      <th></th>\n",
       "      <th></th>\n",
       "      <th></th>\n",
       "      <th></th>\n",
       "      <th></th>\n",
       "      <th></th>\n",
       "      <th></th>\n",
       "      <th></th>\n",
       "      <th></th>\n",
       "      <th></th>\n",
       "      <th></th>\n",
       "    </tr>\n",
       "  </thead>\n",
       "  <tbody>\n",
       "    <tr>\n",
       "      <th>309641</th>\n",
       "      <td>3</td>\n",
       "      <td>574</td>\n",
       "      <td>3150</td>\n",
       "      <td>3</td>\n",
       "      <td>40</td>\n",
       "      <td>5</td>\n",
       "      <td>7</td>\n",
       "      <td>t</td>\n",
       "      <td>r</td>\n",
       "      <td>n</td>\n",
       "      <td>...</td>\n",
       "      <td>0</td>\n",
       "      <td>0</td>\n",
       "      <td>0</td>\n",
       "      <td>0</td>\n",
       "      <td>0</td>\n",
       "      <td>0</td>\n",
       "      <td>0</td>\n",
       "      <td>0</td>\n",
       "      <td>0</td>\n",
       "      <td>0</td>\n",
       "    </tr>\n",
       "    <tr>\n",
       "      <th>470579</th>\n",
       "      <td>26</td>\n",
       "      <td>39</td>\n",
       "      <td>9133</td>\n",
       "      <td>2</td>\n",
       "      <td>0</td>\n",
       "      <td>19</td>\n",
       "      <td>7</td>\n",
       "      <td>t</td>\n",
       "      <td>i</td>\n",
       "      <td>x</td>\n",
       "      <td>...</td>\n",
       "      <td>0</td>\n",
       "      <td>0</td>\n",
       "      <td>0</td>\n",
       "      <td>0</td>\n",
       "      <td>0</td>\n",
       "      <td>0</td>\n",
       "      <td>0</td>\n",
       "      <td>0</td>\n",
       "      <td>0</td>\n",
       "      <td>0</td>\n",
       "    </tr>\n",
       "    <tr>\n",
       "      <th>110391</th>\n",
       "      <td>22</td>\n",
       "      <td>171</td>\n",
       "      <td>10384</td>\n",
       "      <td>1</td>\n",
       "      <td>5</td>\n",
       "      <td>7</td>\n",
       "      <td>3</td>\n",
       "      <td>t</td>\n",
       "      <td>u</td>\n",
       "      <td>n</td>\n",
       "      <td>...</td>\n",
       "      <td>0</td>\n",
       "      <td>0</td>\n",
       "      <td>0</td>\n",
       "      <td>0</td>\n",
       "      <td>0</td>\n",
       "      <td>0</td>\n",
       "      <td>0</td>\n",
       "      <td>0</td>\n",
       "      <td>0</td>\n",
       "      <td>0</td>\n",
       "    </tr>\n",
       "    <tr>\n",
       "      <th>498463</th>\n",
       "      <td>11</td>\n",
       "      <td>131</td>\n",
       "      <td>5997</td>\n",
       "      <td>2</td>\n",
       "      <td>30</td>\n",
       "      <td>13</td>\n",
       "      <td>6</td>\n",
       "      <td>t</td>\n",
       "      <td>r</td>\n",
       "      <td>n</td>\n",
       "      <td>...</td>\n",
       "      <td>0</td>\n",
       "      <td>0</td>\n",
       "      <td>0</td>\n",
       "      <td>0</td>\n",
       "      <td>0</td>\n",
       "      <td>0</td>\n",
       "      <td>0</td>\n",
       "      <td>0</td>\n",
       "      <td>0</td>\n",
       "      <td>0</td>\n",
       "    </tr>\n",
       "    <tr>\n",
       "      <th>1001239</th>\n",
       "      <td>6</td>\n",
       "      <td>376</td>\n",
       "      <td>10236</td>\n",
       "      <td>2</td>\n",
       "      <td>50</td>\n",
       "      <td>8</td>\n",
       "      <td>5</td>\n",
       "      <td>t</td>\n",
       "      <td>r</td>\n",
       "      <td>n</td>\n",
       "      <td>...</td>\n",
       "      <td>1</td>\n",
       "      <td>0</td>\n",
       "      <td>0</td>\n",
       "      <td>0</td>\n",
       "      <td>0</td>\n",
       "      <td>0</td>\n",
       "      <td>0</td>\n",
       "      <td>0</td>\n",
       "      <td>0</td>\n",
       "      <td>0</td>\n",
       "    </tr>\n",
       "  </tbody>\n",
       "</table>\n",
       "<p>5 rows × 38 columns</p>\n",
       "</div>"
      ],
      "text/plain": [
       "             geo_level_1_id  geo_level_2_id  geo_level_3_id  \\\n",
       "building_id                                                   \n",
       "309641                    3             574            3150   \n",
       "470579                   26              39            9133   \n",
       "110391                   22             171           10384   \n",
       "498463                   11             131            5997   \n",
       "1001239                   6             376           10236   \n",
       "\n",
       "             count_floors_pre_eq  age  area_percentage  height_percentage  \\\n",
       "building_id                                                                 \n",
       "309641                         3   40                5                  7   \n",
       "470579                         2    0               19                  7   \n",
       "110391                         1    5                7                  3   \n",
       "498463                         2   30               13                  6   \n",
       "1001239                        2   50                8                  5   \n",
       "\n",
       "            land_surface_condition foundation_type roof_type  ...  \\\n",
       "building_id                                                   ...   \n",
       "309641                           t               r         n  ...   \n",
       "470579                           t               i         x  ...   \n",
       "110391                           t               u         n  ...   \n",
       "498463                           t               r         n  ...   \n",
       "1001239                          t               r         n  ...   \n",
       "\n",
       "            has_secondary_use_agriculture has_secondary_use_hotel  \\\n",
       "building_id                                                         \n",
       "309641                                  0                       0   \n",
       "470579                                  0                       0   \n",
       "110391                                  0                       0   \n",
       "498463                                  0                       0   \n",
       "1001239                                 1                       0   \n",
       "\n",
       "            has_secondary_use_rental has_secondary_use_institution  \\\n",
       "building_id                                                          \n",
       "309641                             0                             0   \n",
       "470579                             0                             0   \n",
       "110391                             0                             0   \n",
       "498463                             0                             0   \n",
       "1001239                            0                             0   \n",
       "\n",
       "             has_secondary_use_school  has_secondary_use_industry  \\\n",
       "building_id                                                         \n",
       "309641                              0                           0   \n",
       "470579                              0                           0   \n",
       "110391                              0                           0   \n",
       "498463                              0                           0   \n",
       "1001239                             0                           0   \n",
       "\n",
       "             has_secondary_use_health_post  has_secondary_use_gov_office  \\\n",
       "building_id                                                                \n",
       "309641                                   0                             0   \n",
       "470579                                   0                             0   \n",
       "110391                                   0                             0   \n",
       "498463                                   0                             0   \n",
       "1001239                                  0                             0   \n",
       "\n",
       "             has_secondary_use_use_police  has_secondary_use_other  \n",
       "building_id                                                         \n",
       "309641                                  0                        0  \n",
       "470579                                  0                        0  \n",
       "110391                                  0                        0  \n",
       "498463                                  0                        0  \n",
       "1001239                                 0                        0  \n",
       "\n",
       "[5 rows x 38 columns]"
      ]
     },
     "execution_count": 2,
     "metadata": {},
     "output_type": "execute_result"
    }
   ],
   "source": [
    "# Loading provided train and prediction datasets. Prediction dataset refers to the unlabelled dataset, to be predicted on and submitted\n",
    "datapath = './data/'\n",
    "df_train_features_raw = pd.read_csv(datapath+'train_values.csv').set_index('building_id')\n",
    "df_train_labels_raw = pd.read_csv(datapath+'train_labels.csv').set_index('building_id')\n",
    "df_pred_features_raw = pd.read_csv(datapath+'test_values.csv').set_index('building_id')\n",
    "\n",
    "# Feature groups\n",
    "categorical_features = ['geo_level_1_id', 'geo_level_2_id', 'geo_level_3_id', 'land_surface_condition', 'foundation_type', 'roof_type', 'ground_floor_type', 'other_floor_type', 'position', 'plan_configuration', 'has_superstructure_adobe_mud', 'has_superstructure_mud_mortar_stone', 'has_superstructure_stone_flag',\n",
    "                        'has_superstructure_cement_mortar_stone', 'has_superstructure_mud_mortar_brick', 'has_superstructure_cement_mortar_brick', 'has_superstructure_timber', 'has_superstructure_bamboo', 'has_superstructure_rc_non_engineered', 'has_superstructure_rc_engineered', 'has_superstructure_other', \n",
    "                        'legal_ownership_status', 'has_secondary_use', 'has_secondary_use_agriculture', 'has_secondary_use_hotel', 'has_secondary_use_rental', 'has_secondary_use_institution', 'has_secondary_use_school', 'has_secondary_use_industry', 'has_secondary_use_health_post', 'has_secondary_use_gov_office', 'has_secondary_use_use_police', 'has_secondary_use_other']\n",
    "geo_features = ['geo_level_1_id', 'geo_level_2_id', 'geo_level_3_id']\n",
    "numerical_features = ['count_floors_pre_eq', 'age', 'area_percentage', 'height_percentage', 'count_families']\n",
    "\n",
    "\n",
    "df_train_features_raw.sample(5)"
   ]
  },
  {
   "cell_type": "markdown",
   "metadata": {},
   "source": [
    "The plots below provide a quick overview to the distribution of `damage_grade` with different features. Note the large number of categorical features given by the barplots."
   ]
  },
  {
   "cell_type": "code",
   "execution_count": 3,
   "metadata": {},
   "outputs": [
    {
     "data": {
      "image/png": "[encoded data removed]",
      "text/plain": [
       "<Figure size 2000x2000 with 36 Axes>"
      ]
     },
     "metadata": {},
     "output_type": "display_data"
    }
   ],
   "source": [
    "df_train_features = df_train_features_raw.copy()\n",
    "df_train_labels = df_train_labels_raw.copy()\n",
    "df_train = pd.concat([df_train_features,df_train_labels],axis=1)\n",
    "non_geo_features = list(df_train.columns)\n",
    "non_geo_features = [feat for feat in non_geo_features if not (feat in geo_features+['damage_grade'])]\n",
    "non_geo_features_cat = [feat for feat in non_geo_features if not (feat in numerical_features)]\n",
    "non_geo_features_num = numerical_features\n",
    "\n",
    "fig,axs = plt.subplots(6,6,figsize=(20,20))\n",
    "axs = axs.flatten()\n",
    "\n",
    "for i,feat in enumerate(non_geo_features_cat):\n",
    "    sns.barplot(df_train,x=feat,y='damage_grade',ax=axs[i])\n",
    "\n",
    "for i,feat in enumerate(non_geo_features_num):\n",
    "    sns.pointplot(df_train,x=feat,y='damage_grade',ax=axs[i+30])\n",
    "\n",
    "fig.tight_layout()"
   ]
  },
  {
   "cell_type": "markdown",
   "metadata": {
    "jp-MarkdownHeadingCollapsed": true
   },
   "source": [
    "## Helpers"
   ]
  },
  {
   "cell_type": "code",
   "execution_count": 4,
   "metadata": {
    "id": "yv3q5-CbrFTk"
   },
   "outputs": [],
   "source": [
    "def preprocess(df_features:pd.DataFrame)->pd.DataFrame:\n",
    "    # Convert numeric features to float for automatic handling by some GBM packages\n",
    "    df_features = df_features.astype({'count_floors_pre_eq':'float',\n",
    "                                      'age':'float',\n",
    "                                      'area_percentage':'float',\n",
    "                                      'height_percentage':'float',\n",
    "                                      'count_families':'float'})\n",
    "    return df_features"
   ]
  },
  {
   "cell_type": "markdown",
   "metadata": {
    "jp-MarkdownHeadingCollapsed": true
   },
   "source": [
    "## AutoEncoding Geographical Features"
   ]
  },
  {
   "cell_type": "markdown",
   "metadata": {},
   "source": [
    "An auto-encoder network is deployed to uncover latent relationships between the different geographical locations at the same level, i.e. within `geo_level_1_id`, `geo_level_2_id` and `geo_level_3_id`. The model is trained on both labels (i.e. `damage_grade`) and non-geographical features (e.g. `age`, `roof_type`, `has_superstructure_timber` etc). The idea is that locations that are nearer to each other should experience similar damage levels and show similar construction characteristics. As such, the entire dataset (including prediction set) are employed in training the autoencoder. Missing labels, e.g. from the prediction dataset or withheld test set labels, are first imputed using the `impute_damage_grade` function given below. The imputation is done using mean values from other rows with the same geographical features. The resulting latent values replace the original geographical features."
   ]
  },
  {
   "cell_type": "code",
   "execution_count": 5,
   "metadata": {},
   "outputs": [],
   "source": [
    "def impute_damage_grade(df_train_X: pd.DataFrame,df_val_X: pd.DataFrame,\n",
    "                        df_test_X: pd.DataFrame,df_pred_X: pd.DataFrame,\n",
    "                        df_train_y: pd.DataFrame, df_val_y: Optional[pd.DataFrame]=None,\n",
    "                        df_test_y: Optional[pd.DataFrame]=None,\n",
    "                        df_pred_y: Optional[pd.DataFrame]=None) -> pd.DataFrame:\n",
    "    '''\n",
    "    Impute damage grade based on location (i.e. the three geo-features). This imputation is done to provide\n",
    "    values for later geo-encoding. Buildings without damage grades are imputed with mean values of other\n",
    "    buildings in the same geographical locations. If such values are unavailable, the mean values of the\n",
    "    higher geographical feature is taken.\n",
    "    \n",
    "    The original labelled dataset should first be split into train, val, and test sets. The pred set\n",
    "    refers to the unlabelled dataset meant for later prediction and submission.The imputation will be\n",
    "    done using all features from all datasets, but only labels from the dataset(s) meant for training,\n",
    "    and could include both the train and val datasets. At prediction, all labels (including those from\n",
    "    test set) are used. Supply as many label sets as required.\n",
    "    \n",
    "    df_train_X: Train features assuming labelled dataset is split into train-val-test sets\n",
    "    df_val_X: Validation features assuming labelled dataset is split into train-val-test sets\n",
    "    df_test_X: Test features assuming labelled dataset is split into train-val-test sets\n",
    "    df_pred_X: Prediction features from unlabelled dataset\n",
    "    df_train_y: Train labels assuming labelled dataset is split into train-val-test sets\n",
    "    df_val_y: Validation labels assuming labelled dataset is split into train-val-test sets\n",
    "    df_test_y: Test labels assuming labelled dataset is split into train-val-test sets\n",
    "    df_pred_y: Prediction labels predicted from first iteration model, for pseudo-labelling if needed\n",
    "    '''\n",
    "    \n",
    "    # Preprocess to convert numerical features to float\n",
    "    df_train_X = preprocess(df_train_X.copy())\n",
    "    df_val_X = preprocess(df_val_X.copy())\n",
    "    df_test_X = preprocess(df_test_X.copy())\n",
    "    df_pred_X = preprocess(df_pred_X.copy())\n",
    "    df_all = pd.concat([df_train_X,df_train_y],axis=1)\n",
    "\n",
    "    # Include all labels involved in imputation\n",
    "    if df_val_y is not None:\n",
    "        df_val_X = pd.concat([df_val_X,df_val_y],axis=1)\n",
    "    if df_test_y is not None:\n",
    "        df_test_X = pd.concat([df_test_X,df_test_y],axis=1)\n",
    "    if df_pred_y is not None:\n",
    "        df_pred_X = pd.concat([df_pred_X,df_pred_y],axis=1)\n",
    "    df_all = pd.concat([df_all,df_val_X,df_test_X,df_pred_X],axis=0)\n",
    "\n",
    "    # Imputing from the bottom geographical feature up.\n",
    "    if (df_val_y is None) or (df_test_y is None) or (df_pred_y is None):\n",
    "        df_all['geo_combined3'] = df_all.apply(lambda row: str(row['geo_level_1_id']) + '_' + str(row['geo_level_2_id']) + '_' + str(row['geo_level_3_id']), axis=1)\n",
    "        df_all['geo_combined2'] = df_all.apply(lambda row: str(row['geo_level_1_id']) + '_' + str(row['geo_level_2_id']), axis=1)\n",
    "\n",
    "        # Fillna for damage_grade with means for geo level 3\n",
    "        damage_means3 = df_all.groupby('geo_combined3')['damage_grade'].mean()\n",
    "        df_all['damage_grade'] = df_all.apply(lambda row: damage_means3[row['geo_combined3']] if pd.isna(row['damage_grade']) else row['damage_grade'], axis=1)\n",
    "\n",
    "        # Fillna for damage_grade with means for lowest geo level 2\n",
    "        damage_means2 = df_all.groupby('geo_combined2')['damage_grade'].mean()\n",
    "        df_all['damage_grade'] = df_all.apply(lambda row: damage_means2[row['geo_combined2']] if pd.isna(row['damage_grade']) else row['damage_grade'], axis=1)\n",
    "\n",
    "        # Fillna for damage_grade with means for lowest geo level 2\n",
    "        damage_means1 = df_all.groupby('geo_level_1_id')['damage_grade'].mean()\n",
    "        df_all['damage_grade'] = df_all.apply(lambda row: damage_means1[row['geo_level_1_id']] if pd.isna(row['damage_grade']) else row['damage_grade'], axis=1)\n",
    "\n",
    "        # Drop unwanted columns and OHE.\n",
    "        df_all.drop(columns=['geo_combined2','geo_combined3'],inplace=True)\n",
    "\n",
    "    # OHE needed for auto-encoder network.\n",
    "    df_all = pd.get_dummies(df_all,columns=[col for col in categorical_features if not (col in geo_features)],drop_first=True)\n",
    "\n",
    "    # Get feature names\n",
    "    non_geo_features_OHE = [col for col in df_all.columns if not (col in geo_features)]\n",
    "\n",
    "    return df_all, non_geo_features_OHE"
   ]
  },
  {
   "cell_type": "markdown",
   "metadata": {},
   "source": [
    "After imputation, the dataset is fed into an autoencoder for training. The network is given by the `CategoricalAutoencoder` class below."
   ]
  },
  {
   "cell_type": "code",
   "execution_count": 6,
   "metadata": {},
   "outputs": [],
   "source": [
    "# Define the autoencoder\n",
    "class CategoricalAutoencoder(nn.Module):\n",
    "    # AutoEncoder network to produce latent encodings for the geographical features in the earthquake dataset.\n",
    "    def __init__(self, geo1_size, geo2_size, geo3_size, inter_size, latent_size):\n",
    "        super(CategoricalAutoencoder, self).__init__()\n",
    "        self.geo1_size = geo1_size\n",
    "        self.geo2_size = geo2_size\n",
    "        self.geo3_size = geo3_size\n",
    "\n",
    "        # Embedding layers for each categorical input\n",
    "        self.embed1 = nn.Embedding(31, geo1_size)\n",
    "        self.embed2 = nn.Embedding(1418, geo2_size)\n",
    "        self.embed3 = nn.Embedding(11861, geo3_size)\n",
    "        \n",
    "        # Encoder\n",
    "        self.encoder = nn.Sequential(\n",
    "            nn.Linear(geo1_size + geo2_size + geo3_size + 58, inter_size),\n",
    "            nn.ReLU(),\n",
    "            nn.Linear(inter_size, latent_size)\n",
    "        )\n",
    "        \n",
    "        # Decoder\n",
    "        self.decoder = nn.Sequential(\n",
    "            nn.Linear(latent_size, inter_size),\n",
    "            nn.ReLU(),\n",
    "            nn.Linear(inter_size, geo1_size + geo2_size + geo3_size + 58)\n",
    "        )\n",
    "        \n",
    "        # Output layers for each categorical input\n",
    "        self.output1 = nn.Linear(geo1_size, 31)\n",
    "        self.output2 = nn.Linear(geo2_size, 1418)\n",
    "        self.output3 = nn.Linear(geo3_size, 11861)\n",
    "        \n",
    "    def forward(self, x1, x2, x3, feats):\n",
    "        # Embedding the inputs\n",
    "        x1 = self.embed1(x1)\n",
    "        x2 = self.embed2(x2)\n",
    "        x3 = self.embed3(x3)\n",
    "        \n",
    "        # Concatenate embeddings\n",
    "        x = torch.cat([x1, x2, x3, feats], dim=1)\n",
    "        \n",
    "        # Encode\n",
    "        z = self.encoder(x)\n",
    "        \n",
    "        # Decode\n",
    "        x_recon = self.decoder(z)\n",
    "        \n",
    "        # Split the reconstructed output\n",
    "        x1_recon, x2_recon, x3_recon, feats_recon = torch.split(x_recon, [self.geo1_size, self.geo2_size, self.geo3_size, 58], dim=1)\n",
    "        \n",
    "        # Get the output logits for each categorical input\n",
    "        x1_out = self.output1(x1_recon)\n",
    "        x2_out = self.output2(x2_recon)\n",
    "        x3_out = self.output3(x3_recon)\n",
    "        \n",
    "        return x1_out, x2_out, x3_out, feats_recon"
   ]
  },
  {
   "cell_type": "markdown",
   "metadata": {},
   "source": [
    "After training, the original dataset is fed through the encoder to produce the latent encoding. For simplicity, the latent encoding for each location represented by the original geographical features is simply taken as the mean value. The steps for producing `latent_geo`, the mapping between the original geographical features and their correspoding latent encoding, are carried out in the `get_latent_geo` function below."
   ]
  },
  {
   "cell_type": "code",
   "execution_count": 7,
   "metadata": {},
   "outputs": [],
   "source": [
    "def get_latent_geo(df_all:pd.DataFrame, non_geo_features_OHE:list, geo1_size:int = 16, geo2_size:int = 32,\n",
    "                   geo3_size:int = 64, inter_size:int = 128,\n",
    "                   latent_size:int = 64, epochs:int = 10):\n",
    "    '''\n",
    "    Build autoencoder network and get latent geo-encoding based on defined architecture.\n",
    "    geo1_size: Embedding dimension for first geo level\n",
    "    geo2_size: Embedding dimension for second geo level\n",
    "    geo3_size: Embedding dimension for third geo level\n",
    "    latent_size: Dimension of latent variables\n",
    "    inter_size: Output (input) size of encoder's (decoder's) first (last) linear layer, interfacing with latent values\n",
    "    epochs: Number of epochs to run model for\n",
    "    '''\n",
    "    # Instantiate the model\n",
    "    model = CategoricalAutoencoder(geo1_size, geo2_size, geo3_size, inter_size, latent_size).cuda()\n",
    "\n",
    "    # Define the loss function and optimizer\n",
    "    criterion = nn.CrossEntropyLoss()\n",
    "    optimizer = optim.Adam(model.parameters(), lr=0.001)\n",
    "\n",
    "    # Create DataLoader\n",
    "    df = df_all.copy()\n",
    "    bool_cols = df.select_dtypes(include='bool').columns\n",
    "    df[bool_cols] = df[bool_cols].astype(float)\n",
    "\n",
    "    # Encode the categorical columns\n",
    "    le_cat1 = LabelEncoder()\n",
    "    le_cat2 = LabelEncoder()\n",
    "    le_cat3 = LabelEncoder()\n",
    "\n",
    "    df['geo_level_1_id'] = le_cat1.fit_transform(df['geo_level_1_id'])\n",
    "    df['geo_level_2_id'] = le_cat2.fit_transform(df['geo_level_2_id'])\n",
    "    df['geo_level_3_id'] = le_cat3.fit_transform(df['geo_level_3_id'])\n",
    "\n",
    "    # Convert DataFrame to tensors\n",
    "    x1 = torch.tensor(df['geo_level_1_id'].values, dtype=torch.long).cuda()\n",
    "    x2 = torch.tensor(df['geo_level_2_id'].values, dtype=torch.long).cuda()\n",
    "    x3 = torch.tensor(df['geo_level_3_id'].values, dtype=torch.long).cuda()\n",
    "\n",
    "    feat_tensor = torch.tensor(df[non_geo_features_OHE].values, dtype=torch.float).cuda()\n",
    "\n",
    "    # Create DataLoader\n",
    "    dataset = TensorDataset(x1, x2, x3, feat_tensor)\n",
    "    dataloader = DataLoader(dataset, batch_size=256, shuffle=True)\n",
    "\n",
    "    # Training loop with tqdm\n",
    "    for epoch in range(epochs):\n",
    "        epoch_loss = 0\n",
    "        for batch in tqdm(dataloader, desc=f'Epoch {epoch+1}/{epochs}'):\n",
    "            x1_batch, x2_batch, x3_batch, feats_batch = batch\n",
    "            optimizer.zero_grad()\n",
    "            \n",
    "            # Forward pass\n",
    "            x1_out, x2_out, x3_out, feats_recon = model(x1_batch, x2_batch, x3_batch, feats_batch)\n",
    "            \n",
    "            # Compute the loss\n",
    "            loss = (criterion(x1_out, x1_batch) + \\\n",
    "                criterion(x2_out, x2_batch) + \\\n",
    "                criterion(x3_out, x3_batch))\n",
    "            \n",
    "            loss_feat = nn.MSELoss()(feats_recon, feats_batch)\n",
    "\n",
    "            total_loss = loss + loss_feat\n",
    "\n",
    "            # Backward pass and optimization\n",
    "            total_loss.backward()\n",
    "            optimizer.step()\n",
    "            \n",
    "            epoch_loss += total_loss.item()\n",
    "        \n",
    "        print(f'Epoch [{epoch+1}/{epochs}], Loss: {epoch_loss/len(dataloader)}')\n",
    "\n",
    "\n",
    "    # Extract encoding for each location\n",
    "    # Pass the input through the encoder and plot the results\n",
    "    model.eval()\n",
    "    z_list = []\n",
    "\n",
    "    eval_dataloader = DataLoader(dataset, batch_size=128, shuffle=False)\n",
    "\n",
    "    with torch.no_grad():\n",
    "        for batch in tqdm(eval_dataloader, desc='Evaluating'):\n",
    "            x1_batch, x2_batch, x3_batch, feat_tensor = batch\n",
    "            \n",
    "            # Forward pass\n",
    "            z_batch = model.encoder(torch.cat([model.embed1(x1_batch),\n",
    "                                            model.embed2(x2_batch),\n",
    "                                            model.embed3(x3_batch),\n",
    "                                            feat_tensor],\n",
    "                                            dim=1))\n",
    "        \n",
    "            # Move tensors to CPU\n",
    "            z_list.append(z_batch.cpu())\n",
    "            \n",
    "            # Clear cache\n",
    "            torch.cuda.empty_cache()\n",
    "\n",
    "    # Concatenate results\n",
    "    z = torch.cat(z_list, dim=0)\n",
    "    latent_geo = pd.concat([df_all.iloc[:,:3].reset_index(drop=True),pd.DataFrame(z.cpu().numpy())],axis=1)\n",
    "    latent_geo = latent_geo.groupby(geo_features).mean().reset_index() # Get average latent values\n",
    "\n",
    "    return latent_geo, model, dataset, x1, x2, x3"
   ]
  },
  {
   "cell_type": "markdown",
   "metadata": {},
   "source": [
    "## CatBoost Classifier"
   ]
  },
  {
   "cell_type": "markdown",
   "metadata": {
    "jp-MarkdownHeadingCollapsed": true
   },
   "source": [
    "### Vanilla CatBoost - no geo-encoding"
   ]
  },
  {
   "cell_type": "markdown",
   "metadata": {},
   "source": [
    "As a baseline for comparison with later models, we fit a vanilla CatBoost model with no geo-encoding. The hyperparameters are chosen based on cross-validation not shown in this notebook."
   ]
  },
  {
   "cell_type": "code",
   "execution_count": 8,
   "metadata": {},
   "outputs": [
    {
     "name": "stdout",
     "output_type": "stream",
     "text": [
      "0:\tlearn: 1.0905119\ttotal: 54.3ms\tremaining: 18m 5s\n",
      "5000:\tlearn: 0.5528504\ttotal: 29.3s\tremaining: 1m 27s\n",
      "10000:\tlearn: 0.5170208\ttotal: 1m\tremaining: 1m\n",
      "15000:\tlearn: 0.4866375\ttotal: 1m 32s\tremaining: 30.8s\n",
      "19999:\tlearn: 0.4598977\ttotal: 2m 5s\tremaining: 0us\n",
      "Testing performance\n",
      "Accuracy: 0.7501\n",
      "F1-score: 0.7501\n"
     ]
    }
   ],
   "source": [
    "# Prep data for catboost vanilla\n",
    "df_train_features = preprocess(df_train_features_raw)                   # Convert numeric features to float\n",
    "X_train_or, X_test, y_train_or, y_test = train_test_split(df_train_features, df_train_labels_raw, test_size = 0.15, random_state=42,stratify=df_train_labels_raw)\n",
    "X_train, X_val, y_train, y_val = train_test_split(X_train_or, y_train_or, test_size = 0.15, random_state=42,stratify=y_train_or)\n",
    " \n",
    "# Get categorical feature indices and names\n",
    "categorical_features_indices = []\n",
    "for i,dtype in enumerate(X_train.dtypes):\n",
    "    if dtype in ['int64','int32','object','category']:\n",
    "        categorical_features_indices.append(i)\n",
    "\n",
    "# Create pooled dataset following catboost requirements\n",
    "train_val_dataset = cb.Pool(data=pd.concat([X_train,X_val],axis=0),\n",
    "                            label=pd.concat([y_train,y_val],axis=0),\n",
    "                            cat_features=categorical_features_indices)\n",
    "\n",
    "# Instantiate catboost classifier model\n",
    "model_cls = cb.CatBoostClassifier(\n",
    "    objective='MultiClass',  # Use 'MultiClass' for classification\n",
    "    task_type='GPU',  # Specify GPU if available\n",
    "    devices='0',  # Specify GPU device(s) if multiple\n",
    "    metric_period=5000,  # Period to print metrics\n",
    "    iterations=20000,  # Number of boosting iterations\n",
    "    learning_rate=0.01,  # Learning rate\n",
    "    depth=8,  # Depth of the trees\n",
    "    grow_policy='Depthwise', # Tree growth policy\n",
    "    l2_leaf_reg=5,  # L2 regularization coefficient\n",
    "    custom_metric=['Accuracy']  # Additional metrics to track\n",
    ")\n",
    "\n",
    "model_cls.fit(train_val_dataset)\n",
    "\n",
    "# Evaluation\n",
    "pred = model_cls.predict(X_test)\n",
    "acc = accuracy_score(y_test, pred)\n",
    "f1 = f1_score(y_test,pred,average='micro')\n",
    "\n",
    "print('Testing performance')\n",
    "print(f'Accuracy: {acc:.4f}')\n",
    "print(f'F1-score: {f1:.4f}')"
   ]
  },
  {
   "cell_type": "markdown",
   "metadata": {},
   "source": [
    "### Catboost with geo-encoding"
   ]
  },
  {
   "cell_type": "markdown",
   "metadata": {},
   "source": [
    "Next, we perform the same fitting with geo-encoding, i.e. using latent values obtained from the encoder. Note that the labels for the test set is not provided, and is instead imputed alongside the labels for the prediction set in the `impute_damage_grade` function. The `get_geo_encoded_dataset` function produces the final geo-encoded datasets."
   ]
  },
  {
   "cell_type": "code",
   "execution_count": 9,
   "metadata": {},
   "outputs": [],
   "source": [
    "def get_geo_encoded_dataset(epochs: int=10, train_on: str='train_val'):\n",
    "    '''\n",
    "    Produce geo-encoded train, val, test, and pred datasets.\n",
    "    epochs: Number of epochs to train auto-encoder\n",
    "    train_on: 'train_val' to train on train and val datasets, for prediction on test set. 'train_val_test' to train on train, val and test datasets, for prediction on pred set for submission.\n",
    "    '''\n",
    "    # Shared latent geo for all models\n",
    "    categorical_features = ['geo_level_1_id', 'geo_level_2_id', 'geo_level_3_id', 'land_surface_condition', 'foundation_type', 'roof_type', 'ground_floor_type', 'other_floor_type', 'position', 'plan_configuration', 'has_superstructure_adobe_mud', 'has_superstructure_mud_mortar_stone', 'has_superstructure_stone_flag',\n",
    "                            'has_superstructure_cement_mortar_stone', 'has_superstructure_mud_mortar_brick', 'has_superstructure_cement_mortar_brick', 'has_superstructure_timber', 'has_superstructure_bamboo', 'has_superstructure_rc_non_engineered', 'has_superstructure_rc_engineered', 'has_superstructure_other', \n",
    "                            'legal_ownership_status', 'has_secondary_use', 'has_secondary_use_agriculture', 'has_secondary_use_hotel', 'has_secondary_use_rental', 'has_secondary_use_institution', 'has_secondary_use_school', 'has_secondary_use_industry', 'has_secondary_use_health_post', 'has_secondary_use_gov_office', 'has_secondary_use_use_police', 'has_secondary_use_other']\n",
    "    geo_features = ['geo_level_1_id', 'geo_level_2_id', 'geo_level_3_id']\n",
    "    numerical_features = ['count_floors_pre_eq', 'age', 'area_percentage', 'height_percentage', 'count_families']\n",
    "\n",
    "    # Split into train, val, test and pred sets\n",
    "    X_train_or, df_test_X_or, y_train_or, df_test_y_or = train_test_split(df_train_features_raw, df_train_labels_raw, test_size = 0.15, random_state=42,stratify=df_train_labels_raw)\n",
    "    df_train_X_or, df_val_X_or, df_train_y_or, df_val_y_or = train_test_split(X_train_or, y_train_or, test_size = 0.15, random_state=42,stratify=y_train_or)\n",
    "    df_pred_X_or = df_pred_features_raw\n",
    "\n",
    "    # Get imputed damage grade to prep for geo-encoding\n",
    "    if train_on == 'train_val':\n",
    "        df_all, non_geo_features_OHE = impute_damage_grade(df_train_X_or, df_val_X_or, \n",
    "                                                        df_test_X_or,df_pred_X_or, \n",
    "                                                        df_train_y_or,df_val_y_or)\n",
    "    elif train_on == 'train_val_test':\n",
    "        df_all, non_geo_features_OHE = impute_damage_grade(df_train_X_or, df_val_X_or, \n",
    "                                                        df_test_X_or,df_pred_X_or, \n",
    "                                                        df_train_y_or,df_val_y_or,\n",
    "                                                        df_test_y_or)\n",
    "    else:\n",
    "        raise Exception('Unknown model training requirement for CatBoost classifier model.')\n",
    "\n",
    "    # Set up architecture\n",
    "    geo1_size = 16\n",
    "    geo2_size = 32\n",
    "    geo3_size = 64\n",
    "    inter_size = 128\n",
    "    latent_size = 64\n",
    "    epochs = epochs\n",
    "\n",
    "    # Get latent geo-encoding\n",
    "    latent_geo,_,_,_,_,_ = get_latent_geo(df_all, non_geo_features_OHE, geo1_size, geo2_size,\n",
    "                                                geo3_size, inter_size, latent_size, epochs)\n",
    "\n",
    "    # Apply encoding\n",
    "    df_train_X = preprocess(df_train_X_or).reset_index().merge(latent_geo,on=geo_features,how='left').set_index('building_id')\n",
    "    df_val_X = preprocess(df_val_X_or).reset_index().merge(latent_geo,on=geo_features,how='left').set_index('building_id')\n",
    "    df_test_X = preprocess(df_test_X_or).reset_index().merge(latent_geo,on=geo_features,how='left').set_index('building_id')\n",
    "    df_pred_X = preprocess(df_pred_X_or).reset_index().merge(latent_geo,on=geo_features,how='left').set_index('building_id')\n",
    "\n",
    "    df_train_X.drop(columns=geo_features, inplace=True)\n",
    "    df_val_X.drop(columns=geo_features, inplace=True)\n",
    "    df_test_X.drop(columns=geo_features, inplace=True)\n",
    "    df_pred_X.drop(columns=geo_features, inplace=True)\n",
    "\n",
    "    # Get categorical feature names and convert to category\n",
    "    categorical_feature_names = []\n",
    "    for feat,dtype in df_train_X.dtypes.items():\n",
    "        if dtype in ['int64','int32','object','category']:\n",
    "            categorical_feature_names.append(feat)\n",
    "    \n",
    "    df_train_X[categorical_feature_names] = df_train_X[categorical_feature_names].astype('category')\n",
    "    df_val_X[categorical_feature_names] = df_val_X[categorical_feature_names].astype('category')\n",
    "    df_test_X[categorical_feature_names] = df_test_X[categorical_feature_names].astype('category')\n",
    "    df_pred_X[categorical_feature_names] = df_pred_X[categorical_feature_names].astype('category')\n",
    "\n",
    "    return df_train_X, df_val_X, df_test_X, df_pred_X, df_train_y_or, df_val_y_or, df_test_y_or\n"
   ]
  },
  {
   "cell_type": "markdown",
   "metadata": {},
   "source": [
    "Note that the hyperparameters for the CatBoost classifier model as well as the architecture of the autoencoder are selected using a simple grid search (not presented here). The pipeline for CatBoost model training and prediction is performed by the `train_and_pred_catboost` function."
   ]
  },
  {
   "cell_type": "code",
   "execution_count": 10,
   "metadata": {},
   "outputs": [],
   "source": [
    "def train_and_pred_catboost(df_train_X:pd.DataFrame, df_val_X:pd.DataFrame,\n",
    "                            df_test_X:pd.DataFrame, df_pred_X:pd.DataFrame,\n",
    "                            df_train_y_or:pd.DataFrame, df_val_y_or:pd.DataFrame,\n",
    "                            df_test_y_or:pd.DataFrame,train_on: str='train_val',\n",
    "                            pred_on:str='test',depth:int=8):\n",
    "    '''\n",
    "    Train CatBoost classifier model and predict on test/pred set.\n",
    "    df_train_X: Dataframe of train features\n",
    "    df_val_X: Dataframe of val features\n",
    "    df_test_X: Dataframe of test features\n",
    "    df_pred_X: Dataframe of pred features\n",
    "    df_train_y_or: Dataframe of train labels\n",
    "    df_val_y_or: Dataframe of val labels\n",
    "    df_test_y_or: Dataframe of test labels\n",
    "    train_on: 'train_val' to train on train and val datasets, for prediction on test set. 'train_val_test' to train on train, val and test datasets, for prediction on pred set for submission.\n",
    "    pred_on: 'test' to predict on test set and perform evaluation. 'pred' to oredict on pred set for submission\n",
    "    depth: Tree depth for catboost model\n",
    "    '''\n",
    "    # Train catboost\n",
    "    # Get categorical feature indices and names\n",
    "    categorical_features_indices = []\n",
    "    for i,dtype in enumerate(df_train_X.dtypes):\n",
    "        if dtype in ['int64','int32','object','category']:\n",
    "            categorical_features_indices.append(i)\n",
    "\n",
    "    # Create pooled dataset following catboost requirements\n",
    "    # train_dataset = cb.Pool(data=df_train_X, label=df_train_y_or, cat_features=categorical_features_indices)\n",
    "    # val_dataset = cb.Pool(data=df_val_X, label=df_val_y_or, cat_features=categorical_features_indices)\n",
    "    # test_dataset = cb.Pool(data=df_test_X, label=df_test_y_or, cat_features=categorical_features_indices)\n",
    "    train_val_dataset = cb.Pool(data=pd.concat([df_train_X,df_val_X],axis=0),\n",
    "                                label=pd.concat([df_train_y_or,df_val_y_or],axis=0),\n",
    "                                cat_features=categorical_features_indices)\n",
    "    train_val_test_dataset = cb.Pool(data=pd.concat([df_train_X,df_val_X,df_test_X],axis=0),\n",
    "                                label=pd.concat([df_train_y_or,df_val_y_or,df_test_y_or],axis=0),\n",
    "                                cat_features=categorical_features_indices)\n",
    "\n",
    "    # Instantiate catboost classifier model\n",
    "    model_cls = cb.CatBoostClassifier(\n",
    "        objective='MultiClass',  # Use 'MultiClass' for classification\n",
    "        task_type='GPU',  # Specify GPU if available\n",
    "        devices='0',  # Specify GPU device(s) if multiple\n",
    "        metric_period=5000,  # Period to print metrics\n",
    "        iterations=20000,  # Number of boosting iterations\n",
    "        learning_rate=0.01,  # Learning rate\n",
    "        depth=depth,  # Depth of the trees\n",
    "        l2_leaf_reg=5,  # L2 regularization coefficient\n",
    "        grow_policy='Depthwise',\n",
    "        custom_metric=['Accuracy']  # Additional metrics to track\n",
    "    )\n",
    "\n",
    "    # Train model\n",
    "    if train_on == 'train_val':\n",
    "        model_cls.fit(train_val_dataset)\n",
    "    elif train_on == 'train_val_test':\n",
    "        model_cls.fit(train_val_test_dataset)\n",
    "    else:\n",
    "        Exception('Unknown model training requirement for CatBoost classifier model.')\n",
    "\n",
    "\n",
    "    # Prediction/Evaluation\n",
    "    if pred_on == 'test':            # Prediction on test set and F1-score evaluation\n",
    "        pred_cls = model_cls.predict(df_test_X)\n",
    "        f1 = f1_score(df_test_y_or,pred_cls,average='micro')\n",
    "        print('Testing performance')\n",
    "        print(f'F1-score: {f1:.4f}')\n",
    "    elif pred_on == 'pred':          # Prediction on pred set for submission\n",
    "        pred_cls = model_cls.predict(df_pred_X)\n",
    "    else:\n",
    "        raise Exception('Unknown prediction requirement for CatBoost classifier model.')\n",
    "    \n",
    "    return pred_cls\n"
   ]
  },
  {
   "cell_type": "markdown",
   "metadata": {},
   "source": [
    "Getting geo-encoded features, training CatBoost model and evaluating on test set."
   ]
  },
  {
   "cell_type": "code",
   "execution_count": 11,
   "metadata": {},
   "outputs": [
    {
     "name": "stderr",
     "output_type": "stream",
     "text": [
      "Epoch 1/10: 100%|████████████████████████████████████████████████████████████████████████████████████████████████████████████████████████████████████████████████████████████| 1358/1358 [00:02<00:00, 489.71it/s]\n"
     ]
    },
    {
     "name": "stdout",
     "output_type": "stream",
     "text": [
      "Epoch [1/10], Loss: 8.408948262239942\n"
     ]
    },
    {
     "name": "stderr",
     "output_type": "stream",
     "text": [
      "Epoch 2/10: 100%|████████████████████████████████████████████████████████████████████████████████████████████████████████████████████████████████████████████████████████████| 1358/1358 [00:02<00:00, 547.43it/s]\n"
     ]
    },
    {
     "name": "stdout",
     "output_type": "stream",
     "text": [
      "Epoch [2/10], Loss: 0.5636999990697813\n"
     ]
    },
    {
     "name": "stderr",
     "output_type": "stream",
     "text": [
      "Epoch 3/10: 100%|████████████████████████████████████████████████████████████████████████████████████████████████████████████████████████████████████████████████████████████| 1358/1358 [00:02<00:00, 526.27it/s]\n"
     ]
    },
    {
     "name": "stdout",
     "output_type": "stream",
     "text": [
      "Epoch [3/10], Loss: 0.30567922804158987\n"
     ]
    },
    {
     "name": "stderr",
     "output_type": "stream",
     "text": [
      "Epoch 4/10: 100%|████████████████████████████████████████████████████████████████████████████████████████████████████████████████████████████████████████████████████████████| 1358/1358 [00:02<00:00, 553.44it/s]\n"
     ]
    },
    {
     "name": "stdout",
     "output_type": "stream",
     "text": [
      "Epoch [4/10], Loss: 0.24364082730856665\n"
     ]
    },
    {
     "name": "stderr",
     "output_type": "stream",
     "text": [
      "Epoch 5/10: 100%|████████████████████████████████████████████████████████████████████████████████████████████████████████████████████████████████████████████████████████████| 1358/1358 [00:02<00:00, 540.41it/s]\n"
     ]
    },
    {
     "name": "stdout",
     "output_type": "stream",
     "text": [
      "Epoch [5/10], Loss: 0.19085437361979432\n"
     ]
    },
    {
     "name": "stderr",
     "output_type": "stream",
     "text": [
      "Epoch 6/10: 100%|████████████████████████████████████████████████████████████████████████████████████████████████████████████████████████████████████████████████████████████| 1358/1358 [00:02<00:00, 544.42it/s]\n"
     ]
    },
    {
     "name": "stdout",
     "output_type": "stream",
     "text": [
      "Epoch [6/10], Loss: 0.17241990533335044\n"
     ]
    },
    {
     "name": "stderr",
     "output_type": "stream",
     "text": [
      "Epoch 7/10: 100%|████████████████████████████████████████████████████████████████████████████████████████████████████████████████████████████████████████████████████████████| 1358/1358 [00:02<00:00, 536.67it/s]\n"
     ]
    },
    {
     "name": "stdout",
     "output_type": "stream",
     "text": [
      "Epoch [7/10], Loss: 0.1448616612461205\n"
     ]
    },
    {
     "name": "stderr",
     "output_type": "stream",
     "text": [
      "Epoch 8/10: 100%|████████████████████████████████████████████████████████████████████████████████████████████████████████████████████████████████████████████████████████████| 1358/1358 [00:02<00:00, 555.46it/s]\n"
     ]
    },
    {
     "name": "stdout",
     "output_type": "stream",
     "text": [
      "Epoch [8/10], Loss: 0.12691387913802937\n"
     ]
    },
    {
     "name": "stderr",
     "output_type": "stream",
     "text": [
      "Epoch 9/10: 100%|████████████████████████████████████████████████████████████████████████████████████████████████████████████████████████████████████████████████████████████| 1358/1358 [00:02<00:00, 541.20it/s]\n"
     ]
    },
    {
     "name": "stdout",
     "output_type": "stream",
     "text": [
      "Epoch [9/10], Loss: 0.12580929524834447\n"
     ]
    },
    {
     "name": "stderr",
     "output_type": "stream",
     "text": [
      "Epoch 10/10: 100%|███████████████████████████████████████████████████████████████████████████████████████████████████████████████████████████████████████████████████████████| 1358/1358 [00:02<00:00, 563.23it/s]\n"
     ]
    },
    {
     "name": "stdout",
     "output_type": "stream",
     "text": [
      "Epoch [10/10], Loss: 0.10154238214033254\n"
     ]
    },
    {
     "name": "stderr",
     "output_type": "stream",
     "text": [
      "Evaluating: 100%|███████████████████████████████████████████████████████████████████████████████████████████████████████████████████████████████████████████████████████████| 2715/2715 [00:01<00:00, 1391.85it/s]\n"
     ]
    },
    {
     "name": "stdout",
     "output_type": "stream",
     "text": [
      "0:\tlearn: 1.0920894\ttotal: 9.5ms\tremaining: 3m 10s\n",
      "5000:\tlearn: 0.4913760\ttotal: 39.6s\tremaining: 1m 58s\n",
      "10000:\tlearn: 0.4517273\ttotal: 1m 18s\tremaining: 1m 18s\n",
      "15000:\tlearn: 0.4237644\ttotal: 1m 56s\tremaining: 38.9s\n",
      "19999:\tlearn: 0.4013167\ttotal: 2m 35s\tremaining: 0us\n",
      "Testing performance\n",
      "F1-score: 0.7564\n"
     ]
    }
   ],
   "source": [
    "df_train_X, df_val_X, df_test_X, \\\n",
    "    df_pred_X, df_train_y_or, df_val_y_or, \\\n",
    "        df_test_y_or = get_geo_encoded_dataset(epochs=10, train_on='train_val')\n",
    "\n",
    "_ = train_and_pred_catboost(df_train_X, df_val_X, df_test_X, df_pred_X,\n",
    "                            df_train_y_or, df_val_y_or, df_test_y_or,\n",
    "                            train_on='train_val', pred_on='test',depth=8)"
   ]
  },
  {
   "cell_type": "markdown",
   "metadata": {},
   "source": [
    "As shown above, the geo_encoded model performs better, achieving a higher F1-score."
   ]
  },
  {
   "cell_type": "markdown",
   "metadata": {
    "jp-MarkdownHeadingCollapsed": true
   },
   "source": [
    "## XGBoost"
   ]
  },
  {
   "cell_type": "markdown",
   "metadata": {},
   "source": [
    "While CatBoost is traditionally used for datasets with a large number of categorical features, newer versions of XGBoost can now also handle categorical features natively. We perform a similar modelling and evaluation below. The geo-encoded features from the previous section is reused here. The relevant XGBoost hyperparameters are similarly obtained from grid search. The pipeline for CatBoost model training and prediction is performed by the `train_and_pred_xgboost` function."
   ]
  },
  {
   "cell_type": "code",
   "execution_count": 12,
   "metadata": {},
   "outputs": [],
   "source": [
    "def train_and_pred_xgboost(df_train_X:pd.DataFrame, df_val_X:pd.DataFrame,\n",
    "                            df_test_X:pd.DataFrame, df_pred_X:pd.DataFrame,\n",
    "                            df_train_y_or:pd.DataFrame, df_val_y_or:pd.DataFrame,\n",
    "                            df_test_y_or:pd.DataFrame,train_on: str='train_val',\n",
    "                            pred_on:str='test',learning_rate:float=0.1):\n",
    "    '''\n",
    "    Train XGBoost classifier model and predict on test/pred set.\n",
    "    df_train_X: Dataframe of train features\n",
    "    df_val_X: Dataframe of val features\n",
    "    df_test_X: Dataframe of test features\n",
    "    df_pred_X: Dataframe of pred features\n",
    "    df_train_y_or: Dataframe of train labels\n",
    "    df_val_y_or: Dataframe of val labels\n",
    "    df_test_y_or: Dataframe of test labels\n",
    "    train_on: 'train_val' to train on train and val datasets, for prediction on test set. 'train_val_test' to train on train, val and test datasets, for prediction on pred set for submission.\n",
    "    pred_on: 'test' to predict on test set and perform evaluation. 'pred' to oredict on pred set for submission\n",
    "    learning_rate: Learning rate for XGBoost classifier\n",
    "    '''\n",
    "\n",
    "    # Supported tree methods are `approx` and `hist`.\n",
    "    model_xgb = xgb.XGBClassifier(tree_method=\"hist\", device='cuda:0',enable_categorical=True,\n",
    "                                learning_rate=learning_rate,n_estimators=1000,\n",
    "                                subsample=1,colsample_bytree=0.8,gamma=0.2)\n",
    "\n",
    "    # Train model\n",
    "    if train_on == 'train_val':\n",
    "        model_xgb.fit(pd.concat([df_train_X,df_val_X],axis=0),\n",
    "                      pd.concat([df_train_y_or-1, df_val_y_or-1],axis=0))\n",
    "    elif train_on == 'train_val_test':\n",
    "        model_xgb.fit(pd.concat([df_train_X,df_val_X,df_test_X],axis=0),\n",
    "                    pd.concat([df_train_y_or-1, df_val_y_or-1,df_test_y_or-1],axis=0))\n",
    "    else:\n",
    "        Exception('Unknown model training requirement for XGBoost classifier model.')\n",
    "\n",
    "\n",
    "    # Prediction/Evaluation\n",
    "    if pred_on == 'test':            # Prediction on test set and F1-score evaluation\n",
    "        model_xgb.set_params(device=\"cpu\") # To prevent warning messages of model and array residing on different devices\n",
    "        pred_xgb = model_xgb.predict(df_test_X)+1\n",
    "        f1 = f1_score(df_test_y_or,pred_xgb,average='micro')\n",
    "        print('Testing performance')\n",
    "        print(f'F1-score: {f1:.4f}')\n",
    "    elif pred_on == 'pred':          # Prediction on pred set for submission\n",
    "        model_xgb.set_params(device=\"cpu\") # To prevent warning messages of model and array residing on different devices\n",
    "        pred_xgb = model_xgb.predict(df_pred_X)+1\n",
    "    else:\n",
    "        raise Exception('Unknown prediction requirement for XGBoost classifier model.')\n",
    "    \n",
    "    return pred_xgb"
   ]
  },
  {
   "cell_type": "code",
   "execution_count": 13,
   "metadata": {},
   "outputs": [
    {
     "name": "stderr",
     "output_type": "stream",
     "text": [
      "Epoch 1/10: 100%|████████████████████████████████████████████████████████████████████████████████████████████████████████████████████████████████████████████████████████████| 1358/1358 [00:02<00:00, 538.03it/s]\n"
     ]
    },
    {
     "name": "stdout",
     "output_type": "stream",
     "text": [
      "Epoch [1/10], Loss: 8.596923760312647\n"
     ]
    },
    {
     "name": "stderr",
     "output_type": "stream",
     "text": [
      "Epoch 2/10: 100%|████████████████████████████████████████████████████████████████████████████████████████████████████████████████████████████████████████████████████████████| 1358/1358 [00:02<00:00, 508.39it/s]\n"
     ]
    },
    {
     "name": "stdout",
     "output_type": "stream",
     "text": [
      "Epoch [2/10], Loss: 0.6282348591773956\n"
     ]
    },
    {
     "name": "stderr",
     "output_type": "stream",
     "text": [
      "Epoch 3/10: 100%|████████████████████████████████████████████████████████████████████████████████████████████████████████████████████████████████████████████████████████████| 1358/1358 [00:02<00:00, 520.88it/s]\n"
     ]
    },
    {
     "name": "stdout",
     "output_type": "stream",
     "text": [
      "Epoch [3/10], Loss: 0.317640647089139\n"
     ]
    },
    {
     "name": "stderr",
     "output_type": "stream",
     "text": [
      "Epoch 4/10: 100%|████████████████████████████████████████████████████████████████████████████████████████████████████████████████████████████████████████████████████████████| 1358/1358 [00:02<00:00, 528.92it/s]\n"
     ]
    },
    {
     "name": "stdout",
     "output_type": "stream",
     "text": [
      "Epoch [4/10], Loss: 0.30123969192159894\n"
     ]
    },
    {
     "name": "stderr",
     "output_type": "stream",
     "text": [
      "Epoch 5/10: 100%|████████████████████████████████████████████████████████████████████████████████████████████████████████████████████████████████████████████████████████████| 1358/1358 [00:02<00:00, 540.45it/s]\n"
     ]
    },
    {
     "name": "stdout",
     "output_type": "stream",
     "text": [
      "Epoch [5/10], Loss: 0.2325572419873218\n"
     ]
    },
    {
     "name": "stderr",
     "output_type": "stream",
     "text": [
      "Epoch 6/10: 100%|████████████████████████████████████████████████████████████████████████████████████████████████████████████████████████████████████████████████████████████| 1358/1358 [00:02<00:00, 527.31it/s]\n"
     ]
    },
    {
     "name": "stdout",
     "output_type": "stream",
     "text": [
      "Epoch [6/10], Loss: 0.15618687864552103\n"
     ]
    },
    {
     "name": "stderr",
     "output_type": "stream",
     "text": [
      "Epoch 7/10: 100%|████████████████████████████████████████████████████████████████████████████████████████████████████████████████████████████████████████████████████████████| 1358/1358 [00:02<00:00, 543.53it/s]\n"
     ]
    },
    {
     "name": "stdout",
     "output_type": "stream",
     "text": [
      "Epoch [7/10], Loss: 0.1615509579290083\n"
     ]
    },
    {
     "name": "stderr",
     "output_type": "stream",
     "text": [
      "Epoch 8/10: 100%|████████████████████████████████████████████████████████████████████████████████████████████████████████████████████████████████████████████████████████████| 1358/1358 [00:02<00:00, 529.96it/s]\n"
     ]
    },
    {
     "name": "stdout",
     "output_type": "stream",
     "text": [
      "Epoch [8/10], Loss: 0.1480689666731851\n"
     ]
    },
    {
     "name": "stderr",
     "output_type": "stream",
     "text": [
      "Epoch 9/10: 100%|████████████████████████████████████████████████████████████████████████████████████████████████████████████████████████████████████████████████████████████| 1358/1358 [00:02<00:00, 522.82it/s]\n"
     ]
    },
    {
     "name": "stdout",
     "output_type": "stream",
     "text": [
      "Epoch [9/10], Loss: 0.13290161031006187\n"
     ]
    },
    {
     "name": "stderr",
     "output_type": "stream",
     "text": [
      "Epoch 10/10: 100%|███████████████████████████████████████████████████████████████████████████████████████████████████████████████████████████████████████████████████████████| 1358/1358 [00:02<00:00, 532.15it/s]\n"
     ]
    },
    {
     "name": "stdout",
     "output_type": "stream",
     "text": [
      "Epoch [10/10], Loss: 0.13217944536901274\n"
     ]
    },
    {
     "name": "stderr",
     "output_type": "stream",
     "text": [
      "Evaluating: 100%|███████████████████████████████████████████████████████████████████████████████████████████████████████████████████████████████████████████████████████████| 2715/2715 [00:01<00:00, 1378.66it/s]\n"
     ]
    },
    {
     "name": "stdout",
     "output_type": "stream",
     "text": [
      "Testing performance\n",
      "F1-score: 0.7553\n"
     ]
    }
   ],
   "source": [
    "df_train_X, df_val_X, df_test_X, \\\n",
    "    df_pred_X, df_train_y_or, df_val_y_or, \\\n",
    "        df_test_y_or = get_geo_encoded_dataset(epochs=10, train_on='train_val')\n",
    "\n",
    "_ = train_and_pred_xgboost(df_train_X, df_val_X, df_test_X, df_pred_X,\n",
    "                            df_train_y_or, df_val_y_or, df_test_y_or,\n",
    "                            train_on='train_val', pred_on='test',learning_rate=0.1)"
   ]
  },
  {
   "cell_type": "markdown",
   "metadata": {},
   "source": [
    "XGBoost shows a similar performance as compared to CatBoost."
   ]
  },
  {
   "cell_type": "markdown",
   "metadata": {
    "jp-MarkdownHeadingCollapsed": true
   },
   "source": [
    "## LightGBM"
   ]
  },
  {
   "cell_type": "markdown",
   "metadata": {},
   "source": [
    "Finally, LighGBM is trained, completing the trio. The pipeline for LightGBM model training and prediction is performed by the `train_and_pred_lgbm` function."
   ]
  },
  {
   "cell_type": "code",
   "execution_count": 14,
   "metadata": {},
   "outputs": [],
   "source": [
    "def train_and_pred_lgbm(df_train_X:pd.DataFrame, df_val_X:pd.DataFrame,\n",
    "                            df_test_X:pd.DataFrame, df_pred_X:pd.DataFrame,\n",
    "                            df_train_y_or:pd.DataFrame, df_val_y_or:pd.DataFrame,\n",
    "                            df_test_y_or:pd.DataFrame,train_on: str='train_val',\n",
    "                            pred_on:str='test',depth:int=8):\n",
    "    '''\n",
    "    Train LightGBM classifier model and predict on test/pred set.\n",
    "    df_train_X: Dataframe of train features\n",
    "    df_val_X: Dataframe of val features\n",
    "    df_test_X: Dataframe of test features\n",
    "    df_pred_X: Dataframe of pred features\n",
    "    df_train_y_or: Dataframe of train labels\n",
    "    df_val_y_or: Dataframe of val labels\n",
    "    df_test_y_or: Dataframe of test labels\n",
    "    train_on: 'train_val' to train on train and val datasets, for prediction on test set. 'train_val_test' to train on train, val and test datasets, for prediction on pred set for submission.\n",
    "    pred_on: 'test' to predict on test set and perform evaluation. 'pred' to oredict on pred set for submission\n",
    "    depth: Tree depth for LightGBM model\n",
    "    '''\n",
    "    # Train lightgbm\n",
    "    categorical_features_lgb = []\n",
    "    for feat,dtype in df_train_X.dtypes.items():\n",
    "        if dtype in ['int64','int32','object','category']:\n",
    "            categorical_features_lgb.append(feat)\n",
    "\n",
    "    train_val_data = lgb.Dataset(pd.concat([df_train_X,df_val_X],axis=0),\n",
    "                                label=pd.concat([df_train_y_or,df_val_y_or],axis=0)-1,\n",
    "                                categorical_feature=categorical_features_lgb)\n",
    "    train_val_test_data = lgb.Dataset(pd.concat([df_train_X,df_val_X,df_test_X],axis=0),\n",
    "                             label=pd.concat([df_train_y_or,df_val_y_or,df_test_y_or],axis=0)-1,\n",
    "                             categorical_feature=categorical_features_lgb)\n",
    "    test_data = lgb.Dataset(df_test_X, label=df_test_y_or-1,\n",
    "                            categorical_feature=categorical_features_lgb,\n",
    "                            reference=train_val_data)\n",
    "\n",
    "    # Define model parameters\n",
    "    params = {\n",
    "        'objective': 'multiclass',\n",
    "        'num_class': 3,\n",
    "        'metric': 'multi_logloss',\n",
    "        'boosting_type': 'gbdt',\n",
    "        'learning_rate': 0.05,\n",
    "        'num_leaves': 80,\n",
    "        'max_depth': 8,\n",
    "        'feature_fraction': 0.8,\n",
    "        'bagging_fraction': 0.8,\n",
    "        'bagging_freq': 5,\n",
    "        'verbose': -1,\n",
    "        'device':'gpu'\n",
    "    }\n",
    "\n",
    "    callbacks = [lgb.early_stopping(stopping_rounds=100, verbose=True)]\n",
    "\n",
    "    # Train model\n",
    "    if train_on == 'train_val':\n",
    "        model_lgb = lgb.train(\n",
    "            params,\n",
    "            train_val_data,\n",
    "            valid_sets=[train_val_data, test_data],\n",
    "            valid_names=['train', 'valid'],\n",
    "            num_boost_round=1500,\n",
    "            callbacks=callbacks\n",
    "            )\n",
    "    elif train_on == 'train_val_test':\n",
    "        model_lgb = lgb.train(\n",
    "            params,\n",
    "            train_val_test_data,\n",
    "            valid_sets=[train_val_test_data, test_data],\n",
    "            valid_names=['train', 'valid'],\n",
    "            num_boost_round=1500,\n",
    "            callbacks=callbacks\n",
    "        )\n",
    "    else:\n",
    "        Exception('Unknown model training requirement for LightGBM classifier model.')\n",
    "\n",
    "    # Prediction/Evaluation\n",
    "    if pred_on == 'test':            # Prediction on test set and F1-score evaluation\n",
    "        pred_lgb = model_lgb.predict(df_test_X, num_iteration=model_lgb.best_iteration)\n",
    "        pred_lgb = np.array([list(x).index(max(x)) for x in pred_lgb]) +1 # For multiclass classification\n",
    "        f1 = f1_score(df_test_y_or,pred_lgb,average='micro')\n",
    "        print('Testing performance')\n",
    "        print(f'F1-score: {f1:.4f}')\n",
    "    elif pred_on == 'pred':          # Prediction on pred set for submission\n",
    "        pred_lgb = model_lgb.predict(df_pred_X, num_iteration=model_lgb.best_iteration)\n",
    "        pred_lgb = np.array([list(x).index(max(x)) for x in pred_lgb]) +1 # For multiclass classification\n",
    "    else:\n",
    "        raise Exception('Unknown prediction requirement for LightGBM classifier model.')\n",
    "    \n",
    "    return pred_lgb\n"
   ]
  },
  {
   "cell_type": "code",
   "execution_count": 15,
   "metadata": {},
   "outputs": [
    {
     "name": "stderr",
     "output_type": "stream",
     "text": [
      "Epoch 1/10: 100%|████████████████████████████████████████████████████████████████████████████████████████████████████████████████████████████████████████████████████████████| 1358/1358 [00:02<00:00, 539.68it/s]\n"
     ]
    },
    {
     "name": "stdout",
     "output_type": "stream",
     "text": [
      "Epoch [1/10], Loss: 8.900628457364348\n"
     ]
    },
    {
     "name": "stderr",
     "output_type": "stream",
     "text": [
      "Epoch 2/10: 100%|████████████████████████████████████████████████████████████████████████████████████████████████████████████████████████████████████████████████████████████| 1358/1358 [00:02<00:00, 516.51it/s]\n"
     ]
    },
    {
     "name": "stdout",
     "output_type": "stream",
     "text": [
      "Epoch [2/10], Loss: 0.5700744495388335\n"
     ]
    },
    {
     "name": "stderr",
     "output_type": "stream",
     "text": [
      "Epoch 3/10: 100%|████████████████████████████████████████████████████████████████████████████████████████████████████████████████████████████████████████████████████████████| 1358/1358 [00:02<00:00, 529.12it/s]\n"
     ]
    },
    {
     "name": "stdout",
     "output_type": "stream",
     "text": [
      "Epoch [3/10], Loss: 0.3284562080604777\n"
     ]
    },
    {
     "name": "stderr",
     "output_type": "stream",
     "text": [
      "Epoch 4/10: 100%|████████████████████████████████████████████████████████████████████████████████████████████████████████████████████████████████████████████████████████████| 1358/1358 [00:02<00:00, 523.03it/s]\n"
     ]
    },
    {
     "name": "stdout",
     "output_type": "stream",
     "text": [
      "Epoch [4/10], Loss: 0.2633445949097533\n"
     ]
    },
    {
     "name": "stderr",
     "output_type": "stream",
     "text": [
      "Epoch 5/10: 100%|████████████████████████████████████████████████████████████████████████████████████████████████████████████████████████████████████████████████████████████| 1358/1358 [00:02<00:00, 523.76it/s]\n"
     ]
    },
    {
     "name": "stdout",
     "output_type": "stream",
     "text": [
      "Epoch [5/10], Loss: 0.2271750289562744\n"
     ]
    },
    {
     "name": "stderr",
     "output_type": "stream",
     "text": [
      "Epoch 6/10: 100%|████████████████████████████████████████████████████████████████████████████████████████████████████████████████████████████████████████████████████████████| 1358/1358 [00:02<00:00, 533.99it/s]\n"
     ]
    },
    {
     "name": "stdout",
     "output_type": "stream",
     "text": [
      "Epoch [6/10], Loss: 0.17220129732958786\n"
     ]
    },
    {
     "name": "stderr",
     "output_type": "stream",
     "text": [
      "Epoch 7/10: 100%|████████████████████████████████████████████████████████████████████████████████████████████████████████████████████████████████████████████████████████████| 1358/1358 [00:02<00:00, 543.41it/s]\n"
     ]
    },
    {
     "name": "stdout",
     "output_type": "stream",
     "text": [
      "Epoch [7/10], Loss: 0.14589809764873385\n"
     ]
    },
    {
     "name": "stderr",
     "output_type": "stream",
     "text": [
      "Epoch 8/10: 100%|████████████████████████████████████████████████████████████████████████████████████████████████████████████████████████████████████████████████████████████| 1358/1358 [00:02<00:00, 536.61it/s]\n"
     ]
    },
    {
     "name": "stdout",
     "output_type": "stream",
     "text": [
      "Epoch [8/10], Loss: 0.14164342920519465\n"
     ]
    },
    {
     "name": "stderr",
     "output_type": "stream",
     "text": [
      "Epoch 9/10: 100%|████████████████████████████████████████████████████████████████████████████████████████████████████████████████████████████████████████████████████████████| 1358/1358 [00:02<00:00, 530.20it/s]\n"
     ]
    },
    {
     "name": "stdout",
     "output_type": "stream",
     "text": [
      "Epoch [9/10], Loss: 0.12661232088523777\n"
     ]
    },
    {
     "name": "stderr",
     "output_type": "stream",
     "text": [
      "Epoch 10/10: 100%|███████████████████████████████████████████████████████████████████████████████████████████████████████████████████████████████████████████████████████████| 1358/1358 [00:02<00:00, 517.96it/s]\n"
     ]
    },
    {
     "name": "stdout",
     "output_type": "stream",
     "text": [
      "Epoch [10/10], Loss: 0.1125561005856968\n"
     ]
    },
    {
     "name": "stderr",
     "output_type": "stream",
     "text": [
      "Evaluating: 100%|███████████████████████████████████████████████████████████████████████████████████████████████████████████████████████████████████████████████████████████| 2715/2715 [00:01<00:00, 1445.24it/s]\n"
     ]
    },
    {
     "name": "stdout",
     "output_type": "stream",
     "text": [
      "Training until validation scores don't improve for 100 rounds\n",
      "Early stopping, best iteration is:\n",
      "[838]\ttrain's multi_logloss: 0.43635\tvalid's multi_logloss: 0.549926\n",
      "Testing performance\n",
      "F1-score: 0.7561\n"
     ]
    }
   ],
   "source": [
    "df_train_X, df_val_X, df_test_X, \\\n",
    "    df_pred_X, df_train_y_or, df_val_y_or, \\\n",
    "        df_test_y_or = get_geo_encoded_dataset(epochs=10, train_on='train_val')\n",
    "\n",
    "_ = train_and_pred_lgbm(df_train_X, df_val_X, df_test_X, df_pred_X,\n",
    "                            df_train_y_or, df_val_y_or, df_test_y_or,\n",
    "                            train_on='train_val', pred_on='test',depth=8)"
   ]
  },
  {
   "cell_type": "markdown",
   "metadata": {},
   "source": [
    "LightGBM shows a similar performance as compared to CatBoost and XGBoost."
   ]
  },
  {
   "cell_type": "markdown",
   "metadata": {},
   "source": [
    "## Ensemble"
   ]
  },
  {
   "cell_type": "markdown",
   "metadata": {},
   "source": [
    "Here, we perform model ensembling with multiple variants of the CatBoost, XGBoost, and LightGBM models, with some perturbations introduced to the different variants. We take advantage of the randomness introduced by the AutoEncoder network built in pytorch to inject some perturbation to the different variants."
   ]
  },
  {
   "cell_type": "code",
   "execution_count": 16,
   "metadata": {},
   "outputs": [],
   "source": [
    "preds_cls = []\n",
    "preds_xgb = []\n",
    "preds_lgb = []\n",
    "\n",
    "for i in range(10):\n",
    "    # Get geo-encoded datasets\n",
    "    df_train_X, df_val_X, df_test_X, \\\n",
    "        df_pred_X, df_train_y_or, df_val_y_or, \\\n",
    "            df_test_y_or = get_geo_encoded_dataset(epochs=10, train_on='train_val')\n",
    "    \n",
    "    preds_cls.append(train_and_pred_catboost(df_train_X, df_val_X, df_test_X, df_pred_X,\n",
    "                                             df_train_y_or, df_val_y_or, df_test_y_or,\n",
    "                                             train_on='train_val', pred_on='test',depth=8))\n",
    "    preds_xgb.append(train_and_pred_xgboost(df_train_X, df_val_X, df_test_X, df_pred_X,\n",
    "                                            df_train_y_or, df_val_y_or, df_test_y_or,\n",
    "                                            train_on='train_val', pred_on='test',learning_rate=0.1))\n",
    "    preds_lgb.append(train_and_pred_lgbm(df_train_X, df_val_X, df_test_X, df_pred_X,\n",
    "                                         df_train_y_or, df_val_y_or, df_test_y_or,\n",
    "                                         train_on='train_val', pred_on='test',depth=8))"
   ]
  },
  {
   "cell_type": "code",
   "execution_count": 17,
   "metadata": {},
   "outputs": [],
   "source": [
    "# Combine predictions for each GBM (10 trials each)\n",
    "df_preds_cls = pd.concat([pd.DataFrame(arr) for arr in preds_cls],axis=1)\n",
    "df_preds_xgb = pd.concat([pd.DataFrame(arr) for arr in preds_xgb],axis=1)\n",
    "df_preds_lgb = pd.concat([pd.DataFrame(arr) for arr in preds_lgb],axis=1)\n",
    "\n",
    "# # Export to csv\n",
    "# df_preds_cls.to_csv('cls.csv')\n",
    "# df_preds_xgb.to_csv('xgb.csv')\n",
    "# df_preds_lgb.to_csv('lgb.csv')"
   ]
  },
  {
   "cell_type": "code",
   "execution_count": 18,
   "metadata": {},
   "outputs": [
    {
     "name": "stdout",
     "output_type": "stream",
     "text": [
      "F1-score (CatBoost): 0.7568238213399504\n",
      "F1-score (XGBoost): 0.7571307973702387\n",
      "F1-score (LightGBM): 0.7572587040495254\n",
      "F1-score (Ensemble): 0.7580005627893889\n"
     ]
    }
   ],
   "source": [
    "# # Load from csv\n",
    "# df_preds_cls = pd.read_csv('cls.csv').drop(columns='Unnamed: 0')\n",
    "# df_preds_xgb = pd.read_csv('xgb.csv').drop(columns='Unnamed: 0')\n",
    "# df_preds_lgb = pd.read_csv('lgb.csv').drop(columns='Unnamed: 0')\n",
    "\n",
    "# Voting system for ensemble predictions\n",
    "cls_ens = df_preds_cls.mode(axis=1).iloc[:,0]\n",
    "xgb_ens = df_preds_xgb.mode(axis=1).iloc[:,0]\n",
    "lgb_ens = df_preds_lgb.mode(axis=1).iloc[:,0]\n",
    "all_ens = pd.concat([df_preds_cls,df_preds_xgb,df_preds_lgb],axis=1).mode(axis=1).iloc[:,0]\n",
    "\n",
    "# Evaluate with F1-score\n",
    "f1_cls = f1_score(df_test_y_or,cls_ens,average='micro')\n",
    "f1_xgb = f1_score(df_test_y_or,xgb_ens,average='micro')\n",
    "f1_lgb = f1_score(df_test_y_or,lgb_ens,average='micro')\n",
    "f1_all = f1_score(df_test_y_or,all_ens,average='micro')\n",
    "print(f'F1-score (CatBoost): {f1_cls}')\n",
    "print(f'F1-score (XGBoost): {f1_xgb}')\n",
    "print(f'F1-score (LightGBM): {f1_lgb}')\n",
    "print(f'F1-score (Ensemble): {f1_all}')"
   ]
  },
  {
   "cell_type": "markdown",
   "metadata": {},
   "source": [
    "As shown, the F1-score of the ensemble model involving all three GBM models outperforms the ones involving individual models only."
   ]
  },
  {
   "cell_type": "markdown",
   "metadata": {},
   "source": [
    "## Submission File"
   ]
  },
  {
   "cell_type": "markdown",
   "metadata": {},
   "source": [
    "Based on the findings above, we perform a **crude** ensembling here, with multiple predictions from the same models trained with some perturbation, either introduced by the autoencoder between runs, or in model parameters like learning rates or tree depths."
   ]
  },
  {
   "cell_type": "code",
   "execution_count": 19,
   "metadata": {},
   "outputs": [],
   "source": [
    "# All combos of hyperparameters to consider for producing perturbed models\n",
    "all_epochs = [10,9,9,11,11]\n",
    "all_cls_depths = [8,7,7,9,9]\n",
    "all_xgb_learning_rates = [0.1,0.08,0.08,0.12,0.12]\n",
    "all_lgb_depths = [8,7,7,9,9]\n",
    "\n",
    "preds = []\n",
    "for i in range(5):\n",
    "    print(f'\\n\\n ~~~~~~~~~~~ Gathering predictions for combo {i} ~~~~~~~~~~~')\n",
    "    epochs = all_epochs[i]\n",
    "    cls_depth = all_cls_depths[i]\n",
    "    xgb_lr = all_xgb_learning_rates[i]\n",
    "    lgb_depth = all_lgb_depths[i]\n",
    "    \n",
    "    for j in range(200):\n",
    "        df_train_X, df_val_X, df_test_X, \\\n",
    "            df_pred_X, df_train_y_or, df_val_y_or, \\\n",
    "                df_test_y_or = get_geo_encoded_dataset(epochs=epochs, train_on='train_val')\n",
    "        preds.append(train_and_pred_catboost(df_train_X, df_val_X, df_test_X, df_pred_X,\n",
    "                                             df_train_y_or, df_val_y_or, df_test_y_or,\n",
    "                                             train_on='train_val', pred_on='test',depth=cls_depth))\n",
    "        preds.append(train_and_pred_xgboost(df_train_X, df_val_X, df_test_X, df_pred_X,\n",
    "                                            df_train_y_or, df_val_y_or, df_test_y_or,\n",
    "                                            train_on='train_val', pred_on='test',learning_rate=xgb_lr))\n",
    "        preds.append(train_and_pred_lgbm(df_train_X, df_val_X, df_test_X, df_pred_X,\n",
    "                                         df_train_y_or, df_val_y_or, df_test_y_or,\n",
    "                                         train_on='train_val', pred_on='test',depth=lgb_depth))\n",
    "\n",
    "# Create dataframe from predictions\n",
    "df_preds = pd.DataFrame(preds).T\n",
    "# filename = f'all_preds.csv'\n",
    "# df_preds.to_csv(filename,index=None)\n",
    "\n",
    "# Prep for CSV submission\n",
    "df_preds['pred'] = df_preds.mode(axis=1).iloc[:,0].astype('int')\n",
    "df_sub = pd.read_csv('./data/submission_format.csv')\n",
    "df_sub['damage_grade'] = df_preds['pred']\n",
    "df_sub.to_csv('dd_earthquake_submission.csv',index=False)"
   ]
  },
  {
   "cell_type": "markdown",
   "metadata": {},
   "source": [
    "## Conclusion and Future Work"
   ]
  },
  {
   "cell_type": "markdown",
   "metadata": {},
   "source": [
    "This notebooks details the strategy used to predict earthquake damage given housing features.\n",
    "\n",
    "1. **GBM Ensemble** - The current approach uses three popular GBMs, including CatBoost, XGBoost, and LightGBM. While each performs reasonably well on its own, the ensemble prediction involving all three GBMs demonstrates superior predictive power, as shown below. This improved performance is observed even though bulk of the models are produced from simple perturbation, which is crude but implementationally straightforward;\n",
    "\n",
    "    <img src=\".\\assets\\f1_distribution.png\" alt=\"F1-scores of Various Models\" width=\"800\"/>\n",
    "\n",
    "2. **Auto-encoder** - The strategy detailed here also includes an auto-encoder to capture geographic details using other features as well as the label in the dataset. This approach appears to have improved CatBoost model performance significantly, at least compared to the [vanilla approach](#Vanilla-CatBoost---no-geo-encoding), where high cardinal geographic features are simply target encoded.\n",
    "\n",
    "As future work, I would like to explore using:\n",
    "1. more advanced geo-encoding approaches, e.g. **TorchGeo**, to better extract geography related features.\n",
    "2. **ordinal regression** approaches, which was briefly explored using [OrdinalGBT](https://ordinalgbt.readthedocs.io/en/latest/) but produced odd results. It is noted here that the regression variants of the GBMs considered here were also explored at an early stage, but produced inferior results compared to the classifier variants;\n",
    "3. **stacked ensemble** approaches."
   ]
  }
 ],
 "metadata": {
  "accelerator": "GPU",
  "colab": {
   "gpuType": "T4",
   "provenance": []
  },
  "kaggle": {
   "accelerator": "gpu",
   "dataSources": [
    {
     "databundleVersionId": 8888703,
     "datasetId": 5242394,
     "sourceId": 8734426,
     "sourceType": "datasetVersion"
    }
   ],
   "dockerImageVersionId": 30733,
   "isGpuEnabled": true,
   "isInternetEnabled": true,
   "language": "python",
   "sourceType": "notebook"
  },
  "kernelspec": {
   "display_name": "Python 3 (ipykernel)",
   "language": "python",
   "name": "python3"
  },
  "language_info": {
   "codemirror_mode": {
    "name": "ipython",
    "version": 3
   },
   "file_extension": ".py",
   "mimetype": "text/x-python",
   "name": "python",
   "nbconvert_exporter": "python",
   "pygments_lexer": "ipython3",
   "version": "3.11.9"
  },
  "widgets": {
   "application/vnd.jupyter.widget-state+json": {
    "177885c36077483aa9a6c289e78cdc0e": {
     "model_module": "@jupyter-widgets/controls",
     "model_module_version": "1.5.0",
     "model_name": "HTMLModel",
     "state": {
      "_dom_classes": [],
      "_model_module": "@jupyter-widgets/controls",
      "_model_module_version": "1.5.0",
      "_model_name": "HTMLModel",
      "_view_count": null,
      "_view_module": "@jupyter-widgets/controls",
      "_view_module_version": "1.5.0",
      "_view_name": "HTMLView",
      "description": "",
      "description_tooltip": null,
      "layout": "IPY_MODEL_e01ea060321941daae6a4920f6b14300",
      "placeholder": "​",
      "style": "IPY_MODEL_f9bbe433a83c42829870f3835095e2d2",
      "value": "Best trial: 67. Best value: 0.443385: 100%"
     }
    },
    "189ea666398a4ebba4bf374ceba7e79f": {
     "model_module": "@jupyter-widgets/controls",
     "model_module_version": "1.5.0",
     "model_name": "HTMLModel",
     "state": {
      "_dom_classes": [],
      "_model_module": "@jupyter-widgets/controls",
      "_model_module_version": "1.5.0",
      "_model_name": "HTMLModel",
      "_view_count": null,
      "_view_module": "@jupyter-widgets/controls",
      "_view_module_version": "1.5.0",
      "_view_name": "HTMLView",
      "description": "",
      "description_tooltip": null,
      "layout": "IPY_MODEL_967457e466314976b434375cbdc00e07",
      "placeholder": "​",
      "style": "IPY_MODEL_8079bcb47bfd4e66bb5e7ac8ca182c90",
      "value": " 100/100 [1:10:13&lt;00:00, 44.86s/it]"
     }
    },
    "289f8b6cf6a848879970cce0ff201c91": {
     "model_module": "@jupyter-widgets/controls",
     "model_module_version": "1.5.0",
     "model_name": "HBoxModel",
     "state": {
      "_dom_classes": [],
      "_model_module": "@jupyter-widgets/controls",
      "_model_module_version": "1.5.0",
      "_model_name": "HBoxModel",
      "_view_count": null,
      "_view_module": "@jupyter-widgets/controls",
      "_view_module_version": "1.5.0",
      "_view_name": "HBoxView",
      "box_style": "",
      "children": [
       "IPY_MODEL_177885c36077483aa9a6c289e78cdc0e",
       "IPY_MODEL_484595e3c7254a11988633fcdadba889",
       "IPY_MODEL_189ea666398a4ebba4bf374ceba7e79f"
      ],
      "layout": "IPY_MODEL_2d6cd261b56c4817a7fbf0a2888fca56"
     }
    },
    "2d6cd261b56c4817a7fbf0a2888fca56": {
     "model_module": "@jupyter-widgets/base",
     "model_module_version": "1.2.0",
     "model_name": "LayoutModel",
     "state": {
      "_model_module": "@jupyter-widgets/base",
      "_model_module_version": "1.2.0",
      "_model_name": "LayoutModel",
      "_view_count": null,
      "_view_module": "@jupyter-widgets/base",
      "_view_module_version": "1.2.0",
      "_view_name": "LayoutView",
      "align_content": null,
      "align_items": null,
      "align_self": null,
      "border": null,
      "bottom": null,
      "display": null,
      "flex": null,
      "flex_flow": null,
      "grid_area": null,
      "grid_auto_columns": null,
      "grid_auto_flow": null,
      "grid_auto_rows": null,
      "grid_column": null,
      "grid_gap": null,
      "grid_row": null,
      "grid_template_areas": null,
      "grid_template_columns": null,
      "grid_template_rows": null,
      "height": null,
      "justify_content": null,
      "justify_items": null,
      "left": null,
      "margin": null,
      "max_height": null,
      "max_width": null,
      "min_height": null,
      "min_width": null,
      "object_fit": null,
      "object_position": null,
      "order": null,
      "overflow": null,
      "overflow_x": null,
      "overflow_y": null,
      "padding": null,
      "right": null,
      "top": null,
      "visibility": null,
      "width": null
     }
    },
    "484595e3c7254a11988633fcdadba889": {
     "model_module": "@jupyter-widgets/controls",
     "model_module_version": "1.5.0",
     "model_name": "FloatProgressModel",
     "state": {
      "_dom_classes": [],
      "_model_module": "@jupyter-widgets/controls",
      "_model_module_version": "1.5.0",
      "_model_name": "FloatProgressModel",
      "_view_count": null,
      "_view_module": "@jupyter-widgets/controls",
      "_view_module_version": "1.5.0",
      "_view_name": "ProgressView",
      "bar_style": "success",
      "description": "",
      "description_tooltip": null,
      "layout": "IPY_MODEL_f543358ccb404ef5bbab84448c280f6d",
      "max": 100,
      "min": 0,
      "orientation": "horizontal",
      "style": "IPY_MODEL_5c683dea3a9940d39e8af70808de03af",
      "value": 100
     }
    },
    "5c683dea3a9940d39e8af70808de03af": {
     "model_module": "@jupyter-widgets/controls",
     "model_module_version": "1.5.0",
     "model_name": "ProgressStyleModel",
     "state": {
      "_model_module": "@jupyter-widgets/controls",
      "_model_module_version": "1.5.0",
      "_model_name": "ProgressStyleModel",
      "_view_count": null,
      "_view_module": "@jupyter-widgets/base",
      "_view_module_version": "1.2.0",
      "_view_name": "StyleView",
      "bar_color": null,
      "description_width": ""
     }
    },
    "8079bcb47bfd4e66bb5e7ac8ca182c90": {
     "model_module": "@jupyter-widgets/controls",
     "model_module_version": "1.5.0",
     "model_name": "DescriptionStyleModel",
     "state": {
      "_model_module": "@jupyter-widgets/controls",
      "_model_module_version": "1.5.0",
      "_model_name": "DescriptionStyleModel",
      "_view_count": null,
      "_view_module": "@jupyter-widgets/base",
      "_view_module_version": "1.2.0",
      "_view_name": "StyleView",
      "description_width": ""
     }
    },
    "967457e466314976b434375cbdc00e07": {
     "model_module": "@jupyter-widgets/base",
     "model_module_version": "1.2.0",
     "model_name": "LayoutModel",
     "state": {
      "_model_module": "@jupyter-widgets/base",
      "_model_module_version": "1.2.0",
      "_model_name": "LayoutModel",
      "_view_count": null,
      "_view_module": "@jupyter-widgets/base",
      "_view_module_version": "1.2.0",
      "_view_name": "LayoutView",
      "align_content": null,
      "align_items": null,
      "align_self": null,
      "border": null,
      "bottom": null,
      "display": null,
      "flex": null,
      "flex_flow": null,
      "grid_area": null,
      "grid_auto_columns": null,
      "grid_auto_flow": null,
      "grid_auto_rows": null,
      "grid_column": null,
      "grid_gap": null,
      "grid_row": null,
      "grid_template_areas": null,
      "grid_template_columns": null,
      "grid_template_rows": null,
      "height": null,
      "justify_content": null,
      "justify_items": null,
      "left": null,
      "margin": null,
      "max_height": null,
      "max_width": null,
      "min_height": null,
      "min_width": null,
      "object_fit": null,
      "object_position": null,
      "order": null,
      "overflow": null,
      "overflow_x": null,
      "overflow_y": null,
      "padding": null,
      "right": null,
      "top": null,
      "visibility": null,
      "width": null
     }
    },
    "e01ea060321941daae6a4920f6b14300": {
     "model_module": "@jupyter-widgets/base",
     "model_module_version": "1.2.0",
     "model_name": "LayoutModel",
     "state": {
      "_model_module": "@jupyter-widgets/base",
      "_model_module_version": "1.2.0",
      "_model_name": "LayoutModel",
      "_view_count": null,
      "_view_module": "@jupyter-widgets/base",
      "_view_module_version": "1.2.0",
      "_view_name": "LayoutView",
      "align_content": null,
      "align_items": null,
      "align_self": null,
      "border": null,
      "bottom": null,
      "display": null,
      "flex": null,
      "flex_flow": null,
      "grid_area": null,
      "grid_auto_columns": null,
      "grid_auto_flow": null,
      "grid_auto_rows": null,
      "grid_column": null,
      "grid_gap": null,
      "grid_row": null,
      "grid_template_areas": null,
      "grid_template_columns": null,
      "grid_template_rows": null,
      "height": null,
      "justify_content": null,
      "justify_items": null,
      "left": null,
      "margin": null,
      "max_height": null,
      "max_width": null,
      "min_height": null,
      "min_width": null,
      "object_fit": null,
      "object_position": null,
      "order": null,
      "overflow": null,
      "overflow_x": null,
      "overflow_y": null,
      "padding": null,
      "right": null,
      "top": null,
      "visibility": null,
      "width": null
     }
    },
    "f543358ccb404ef5bbab84448c280f6d": {
     "model_module": "@jupyter-widgets/base",
     "model_module_version": "1.2.0",
     "model_name": "LayoutModel",
     "state": {
      "_model_module": "@jupyter-widgets/base",
      "_model_module_version": "1.2.0",
      "_model_name": "LayoutModel",
      "_view_count": null,
      "_view_module": "@jupyter-widgets/base",
      "_view_module_version": "1.2.0",
      "_view_name": "LayoutView",
      "align_content": null,
      "align_items": null,
      "align_self": null,
      "border": null,
      "bottom": null,
      "display": null,
      "flex": null,
      "flex_flow": null,
      "grid_area": null,
      "grid_auto_columns": null,
      "grid_auto_flow": null,
      "grid_auto_rows": null,
      "grid_column": null,
      "grid_gap": null,
      "grid_row": null,
      "grid_template_areas": null,
      "grid_template_columns": null,
      "grid_template_rows": null,
      "height": null,
      "justify_content": null,
      "justify_items": null,
      "left": null,
      "margin": null,
      "max_height": null,
      "max_width": null,
      "min_height": null,
      "min_width": null,
      "object_fit": null,
      "object_position": null,
      "order": null,
      "overflow": null,
      "overflow_x": null,
      "overflow_y": null,
      "padding": null,
      "right": null,
      "top": null,
      "visibility": null,
      "width": null
     }
    },
    "f9bbe433a83c42829870f3835095e2d2": {
     "model_module": "@jupyter-widgets/controls",
     "model_module_version": "1.5.0",
     "model_name": "DescriptionStyleModel",
     "state": {
      "_model_module": "@jupyter-widgets/controls",
      "_model_module_version": "1.5.0",
      "_model_name": "DescriptionStyleModel",
      "_view_count": null,
      "_view_module": "@jupyter-widgets/base",
      "_view_module_version": "1.2.0",
      "_view_name": "StyleView",
      "description_width": ""
     }
    }
   }
  }
 },
 "nbformat": 4,
 "nbformat_minor": 4
}
